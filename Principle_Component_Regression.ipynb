{
  "nbformat": 4,
  "nbformat_minor": 0,
  "metadata": {
    "colab": {
      "provenance": [],
      "authorship_tag": "ABX9TyOnZB79+rI2bmnHmSI2EtPt",
      "include_colab_link": true
    },
    "kernelspec": {
      "name": "python3",
      "display_name": "Python 3"
    },
    "language_info": {
      "name": "python"
    }
  },
  "cells": [
    {
      "cell_type": "markdown",
      "metadata": {
        "id": "view-in-github",
        "colab_type": "text"
      },
      "source": [
        "<a href=\"https://colab.research.google.com/github/ssutharya/Regression_Analysis/blob/main/Principle_Component_Regression.ipynb\" target=\"_parent\"><img src=\"https://colab.research.google.com/assets/colab-badge.svg\" alt=\"Open In Colab\"/></a>"
      ]
    },
    {
      "cell_type": "markdown",
      "source": [
        "\n",
        "* PCR reduces the dimensionality of a dataset by projecting it onto a lower-dimensional subspace, using a set of orthogonal linear combinations of the original variables called principal components.\n",
        "\n",
        "\n",
        "* PCR is often used as an alternative to multiple linear regression, especially when the number of variables is large or when the variables are correlated.\n",
        "By using PCR, we can reduce the number of variables in the model and improve the interpretability and stability of the regression results.\n",
        "\n",
        "\n",
        "* To perform PCR, we first need to standardize the original variables and then compute the principal components using singular value decomposition (SVD) or eigendecomposition of the covariance matrix of the standardized data.\n",
        "\n",
        "\n",
        "* The principal components are then used as predictors in a linear regression model, whose coefficients can be estimated using least squares regression or maximum likelihood estimation.\n"
      ],
      "metadata": {
        "id": "TfipIh12rjgf"
      }
    },
    {
      "cell_type": "code",
      "execution_count": 15,
      "metadata": {
        "id": "PUOsBtFippyl"
      },
      "outputs": [],
      "source": [
        "from sklearn.datasets import load_diabetes\n",
        "from sklearn.decomposition import PCA\n",
        "from sklearn.linear_model import LinearRegression\n",
        "from sklearn.metrics import mean_absolute_error, mean_squared_error\n",
        "import numpy as np\n",
        "\n",
        "from sklearn.pipeline import Pipeline\n",
        "from sklearn.preprocessing import StandardScaler"
      ]
    },
    {
      "cell_type": "code",
      "source": [
        "pca = PCA(n_components=4)\n",
        "lr = LinearRegression()\n",
        "\n",
        "pipe = Pipeline(steps =[('PCA', pca), ('linear regression', lr)])\n",
        "\n",
        "#Pipeline helps do the steps in the given order; the output of one is used as the input for the next.\n",
        "\n",
        "X, y = load_diabetes(return_X_y=True)\n",
        "\n",
        "pipe.fit(X, y)\n",
        "\n",
        "y_pred = pipe.predict(X)"
      ],
      "metadata": {
        "id": "EhMNNARE3mMi"
      },
      "execution_count": 20,
      "outputs": []
    },
    {
      "cell_type": "code",
      "source": [
        "mae = mean_absolute_error(y, y_pred)\n",
        "mse = mean_squared_error(y, y_pred)\n",
        "rmse = np.sqrt(mse)\n",
        "r2 = pipe.score(X, y)\n",
        "\n",
        "print(f'Number of features before PCR: {X.shape[1]}')\n",
        "print(f'Number of features after PCR: {pca.n_components_}')\n",
        "\n",
        "print(f'MAE: {mae:.2f}')\n",
        "print(f'MSE: {mse:.2f}')\n",
        "print(f'RMSE: {rmse:.2f}')\n",
        "print(f'R^2: {r2:.2f}')\n"
      ],
      "metadata": {
        "colab": {
          "base_uri": "https://localhost:8080/"
        },
        "id": "jjGC83YG4w2R",
        "outputId": "228024be-560f-4916-d6f9-7475c675ebb1"
      },
      "execution_count": 21,
      "outputs": [
        {
          "output_type": "stream",
          "name": "stdout",
          "text": [
            "Number of features before PCR: 10\n",
            "Number of features after PCR: 4\n",
            "MAE: 44.31\n",
            "MSE: 2963.12\n",
            "RMSE: 54.43\n",
            "R^2: 0.50\n"
          ]
        }
      ]
    }
  ]
}